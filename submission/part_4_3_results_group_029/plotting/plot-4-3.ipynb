{
 "cells": [
  {
   "cell_type": "code",
   "execution_count": 1,
   "metadata": {},
   "outputs": [],
   "source": [
    "MCPERF_FILENAME = '[replace_me]mcperf'\n",
    "JOBS_FILENAME = '[replace_me]jobs'"
   ]
  },
  {
   "cell_type": "code",
   "execution_count": 50,
   "metadata": {},
   "outputs": [],
   "source": [
    "import re\n",
    "import pandas as pd\n",
    "from datetime import datetime\n",
    "\n",
    "def parse_mcperf(filename):\n",
    "    with open(filename, 'r') as f:\n",
    "        mcperf_start = f.readline().split(' ')[2]\n",
    "        mcperf_end = f.readline().split(' ')[2]\n",
    "        f.readline()\n",
    "        \n",
    "        substituted_lines = [re.sub(r\"\\s+\", \" \", line).strip()\n",
    "                            for line in f.readlines()]\n",
    "        headers = substituted_lines[0].split(\" \")\n",
    "\n",
    "        datapoints = []\n",
    "        for line in substituted_lines[1:]:\n",
    "            datapoint = dict(zip(headers, line.split()))\n",
    "            datapoints.append(datapoint)\n",
    "\n",
    "        mcperf_df = pd.DataFrame(data=datapoints)\n",
    "        mcperf_df = mcperf_df.astype(\n",
    "            {\"#type\": str, 'p95': float, 'QPS': float})\n",
    "    return mcperf_start, mcperf_end, mcperf_df\n",
    "\n",
    "def parse_jobs(filename):\n",
    "    events = []\n",
    "    with open(filename, 'r') as f:\n",
    "        for line in f.readlines():\n",
    "            columns = line.strip().split(' ')\n",
    "            event = {\n",
    "                'timestamp': datetime.fromisoformat(columns[0]),\n",
    "                'type': columns[1],\n",
    "                'job': columns[2]\n",
    "            }\n",
    "            print(event, columns)\n",
    "            if event['type'] == 'start' and event['job'] != 'scheduler':\n",
    "                event['initial_cores'] = columns[3].strip('[]').split(',')\n",
    "                event['initial_threads'] = int(columns[4])\n",
    "            elif event['type'] == 'update_cores':\n",
    "                event['cores'] = columns[3].strip('[]').split(',')\n",
    "            elif event['type'] == 'custom':\n",
    "                event['comment'] = columns[3]\n",
    "            events.append(event)\n",
    "    jobs_df = pd.DataFrame(data=events)\n",
    "    return jobs_df"
   ]
  },
  {
   "cell_type": "code",
   "execution_count": 51,
   "metadata": {},
   "outputs": [
    {
     "name": "stdout",
     "output_type": "stream",
     "text": [
      "{'timestamp': datetime.datetime(2023, 4, 12, 11, 13, 46, 591828), 'type': 'start', 'job': 'scheduler'} ['2023-04-12T11:13:46.591828', 'start', 'scheduler']\n",
      "{'timestamp': datetime.datetime(2023, 4, 12, 11, 13, 46, 591857), 'type': 'start', 'job': 'memcached'} ['2023-04-12T11:13:46.591857', 'start', 'memcached', '[0]', '3']\n",
      "{'timestamp': datetime.datetime(2023, 4, 12, 11, 14, 31, 663978), 'type': 'start', 'job': 'canneal'} ['2023-04-12T11:14:31.663978', 'start', 'canneal', '[1,2,3]', '8']\n",
      "{'timestamp': datetime.datetime(2023, 4, 12, 11, 14, 40, 976039), 'type': 'pause', 'job': 'canneal'} ['2023-04-12T11:14:40.976039', 'pause', 'canneal']\n",
      "{'timestamp': datetime.datetime(2023, 4, 12, 11, 15, 12, 245838), 'type': 'update_cores', 'job': 'memcached'} ['2023-04-12T11:15:12.245838', 'update_cores', 'memcached', '[2,3]']\n",
      "{'timestamp': datetime.datetime(2023, 4, 12, 11, 15, 23, 687179), 'type': 'update_cores', 'job': 'canneal'} ['2023-04-12T11:15:23.687179', 'update_cores', 'canneal', '[0,1,2,3]']\n",
      "{'timestamp': datetime.datetime(2023, 4, 12, 11, 15, 25, 899373), 'type': 'custom', 'job': 'canneal'} ['2023-04-12T11:15:25.899373', 'custom', 'canneal', 'This+is+a+custom+event.+You+can+write+whatever+you+want%21']\n",
      "{'timestamp': datetime.datetime(2023, 4, 12, 11, 15, 33, 671561), 'type': 'unpause', 'job': 'canneal'} ['2023-04-12T11:15:33.671561', 'unpause', 'canneal']\n",
      "{'timestamp': datetime.datetime(2023, 4, 12, 11, 15, 44, 636126), 'type': 'end', 'job': 'canneal'} ['2023-04-12T11:15:44.636126', 'end', 'canneal']\n",
      "{'timestamp': datetime.datetime(2023, 4, 12, 11, 15, 49, 6639), 'type': 'end', 'job': 'scheduler'} ['2023-04-12T11:15:49.006639', 'end', 'scheduler']\n",
      "timestamp          datetime64[ns]\n",
      "type                       object\n",
      "job                        object\n",
      "initial_cores              object\n",
      "initial_threads           float64\n",
      "cores                      object\n",
      "comment                    object\n",
      "dtype: object\n"
     ]
    }
   ],
   "source": [
    "\n",
    "for run in [1]: # FIXME: [1, 2, 3]\n",
    "    mcperf_path = f'../{MCPERF_FILENAME}_{run}.txt'\n",
    "    jobs_path = f'../{JOBS_FILENAME}_{run}.txt'\n",
    "\n",
    "    mcperf_start, mcperf_end, mcperf_df = parse_mcperf(mcperf_path)\n",
    "    jobs_df = parse_jobs(jobs_path)\n",
    "    print(jobs_df.dtypes)\n",
    "    "
   ]
  }
 ],
 "metadata": {
  "kernelspec": {
   "display_name": "Python 3",
   "language": "python",
   "name": "python3"
  },
  "language_info": {
   "codemirror_mode": {
    "name": "ipython",
    "version": 3
   },
   "file_extension": ".py",
   "mimetype": "text/x-python",
   "name": "python",
   "nbconvert_exporter": "python",
   "pygments_lexer": "ipython3",
   "version": "3.10.4"
  },
  "orig_nbformat": 4
 },
 "nbformat": 4,
 "nbformat_minor": 2
}
